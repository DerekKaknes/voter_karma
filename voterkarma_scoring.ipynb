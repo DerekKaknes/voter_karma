{
 "cells": [
  {
   "cell_type": "markdown",
   "metadata": {
    "collapsed": false
   },
   "source": [
    "# VoterKarma calculation\n",
    "_This notebook outlines the steps for calculating the VoterKarma score presented in the Debug Politics Hackthon 1-15-16_\n",
    "### v 0.1: MVP: Logistic regression defaults to score voters\n",
    "### v 0.2: XGBoost model"
   ]
  },
  {
   "cell_type": "code",
   "execution_count": 14,
   "metadata": {
    "collapsed": false
   },
   "outputs": [],
   "source": [
    "import pdb\n",
    "import json\n",
    "import datetime\n",
    "import psycopg2 as pg\n",
    "import pandas as pd\n",
    "import numpy as np\n",
    "import xgboost as xgb\n",
    "import matplotlib.pyplot as plt\n",
    "%matplotlib inline\n",
    "from sklearn.metrics import roc_curve\n",
    "from sklearn.metrics import accuracy_score, roc_auc_score"
   ]
  },
  {
   "cell_type": "code",
   "execution_count": 3,
   "metadata": {
    "collapsed": false
   },
   "outputs": [],
   "source": [
    "#Read in db access information\n",
    "vk_access = {}\n",
    "with open('./db_vars', 'r') as f:\n",
    "    for l in f.readlines():\n",
    "        vk_access[l.split('=')[0]] = l.split('=')[1].strip('\\n')"
   ]
  },
  {
   "cell_type": "code",
   "execution_count": 4,
   "metadata": {
    "collapsed": true
   },
   "outputs": [],
   "source": [
    "#Pull in best parameters from testing\n",
    "with open('best_params.json', 'r') as f:\n",
    "    best_params = json.load(f)"
   ]
  },
  {
   "cell_type": "markdown",
   "metadata": {},
   "source": [
    "### Utilities"
   ]
  },
  {
   "cell_type": "code",
   "execution_count": 5,
   "metadata": {
    "collapsed": true
   },
   "outputs": [],
   "source": [
    "# Utilities\n",
    "def date_to_years(start, end=datetime.date.today()):\n",
    "    return (end - start.date()).days / 365\n",
    "\n",
    "def convert_to_date(col):\n",
    "    return pd.to_datetime(col, errors='ignore', format=\"%Y-%m-%d\")"
   ]
  },
  {
   "cell_type": "markdown",
   "metadata": {},
   "source": [
    "### Global vars"
   ]
  },
  {
   "cell_type": "code",
   "execution_count": 6,
   "metadata": {
    "collapsed": true
   },
   "outputs": [],
   "source": [
    "#Limit % of observations to retrieve\n",
    "LIMIT = .25\n",
    "#Columns in database\n",
    "HEADERS = (\n",
    "'id', 'dob', 'gender', 'status', 'enrollment', 'district', 'regdate', \n",
    "'idrequired', 'idmet',\n",
    "'e2001_09_primary',\n",
    "'e2001_11_general',\n",
    "'e2005_09_primary',\n",
    "'e2005_11_general',\n",
    "'e2006_11_general',\n",
    "'e2008_02_primary',\n",
    "'e2008_11_general',\n",
    "'e2009_09_primary',\n",
    "'e2009_11_general',\n",
    "'e2010_09_primary',\n",
    "'e2010_11_general',\n",
    "'e2012_06_primary',\n",
    "'e2012_09_primary',\n",
    "'e2012_11_general',\n",
    "'e2013_09_primary',\n",
    "'e2013_11_general',\n",
    "'e2014_06_primary',\n",
    "'e2014_11_general'\n",
    ")\n",
    "#Recent elections (column names)\n",
    "RECENT = {'local_primary':'e2013_09_primary', \n",
    "               'local_general':'e2013_11_general', \n",
    "               'national_midterm':'e2014_11_general',\n",
    "               'national_presidential': 'e2012_11_general'}"
   ]
  },
  {
   "cell_type": "markdown",
   "metadata": {},
   "source": [
    "### Data pulling\n",
    "Requires connection to vk RDS.  Use `LIMIT` global to limit number of observations.  Total dataset is >3M rows"
   ]
  },
  {
   "cell_type": "code",
   "execution_count": 7,
   "metadata": {
    "collapsed": true
   },
   "outputs": [],
   "source": [
    "#Data pulling\n",
    "def pulldata(limit=None):\n",
    "    conn = pg.connect(database = vk_access['VK_DB'], user = vk_access['VK_U'], password = vk_access['VK_PW'],\n",
    "        host = vk_access['VK_HOST'], port = vk_access['VK_PORT'])\n",
    "\n",
    "    cur = conn.cursor()\n",
    "\n",
    "    sel = \"\"\"\n",
    "    SELECT {}\n",
    "    FROM {}\n",
    "    \"\"\".format(', '.join(HEADERS), 'rawvoters')\n",
    "\n",
    "    if limit is not None:\n",
    "        sel += \" TABLESAMPLE BERNOULLI({})\".format(limit)\n",
    "\n",
    "    cur.execute(sel)\n",
    "    df = pd.DataFrame.from_records(cur.fetchall(), columns=HEADERS)\n",
    "    return(df)"
   ]
  },
  {
   "cell_type": "code",
   "execution_count": 8,
   "metadata": {
    "collapsed": true
   },
   "outputs": [],
   "source": [
    "#Data processing\n",
    "def process(data):\n",
    "    # Set index to 'id' and drop id\n",
    "    df = data.set_index(['id']).copy(deep=True)\n",
    "    # Convert Date fields to years duration\n",
    "    df[df.select_dtypes(['object']).columns] = df.select_dtypes(['object']).apply(convert_to_date)\n",
    "    df[df.select_dtypes(['datetime64[ns]']).columns] = \\\n",
    "            df.select_dtypes(['datetime64[ns]']).applymap(lambda x:\n",
    "                    date_to_years(x))\n",
    "    #DOB range 18-167, probably fair to drop anyone >=100\n",
    "    df = df[df.dob<100]\n",
    "    # Create categories and pivot them\n",
    "    df[df.select_dtypes(['object']).columns] = \\\n",
    "            df.select_dtypes(['object']).apply(lambda x: x.astype('category'))\n",
    "\n",
    "    # Pivot categorical variables\n",
    "    cat_cols = df.select_dtypes(['category']).columns\n",
    "    for col in cat_cols:\n",
    "        dummy = pd.get_dummies(df[col], prefix=col)\n",
    "        df = pd.concat([df, dummy], axis=1)\n",
    "\n",
    "    df.drop(cat_cols, axis=1, inplace=True)\n",
    "    return(df)"
   ]
  },
  {
   "cell_type": "markdown",
   "metadata": {},
   "source": [
    "### Testing model"
   ]
  },
  {
   "cell_type": "code",
   "execution_count": 12,
   "metadata": {
    "collapsed": true
   },
   "outputs": [],
   "source": [
    "#Create train/test\n",
    "def tr_te_split(f, l, pct):\n",
    "    rnd_indices = np.random.rand(len(f)) < pct\n",
    "    test_x = f[~rnd_indices]\n",
    "    test_y = l[~rnd_indices]\n",
    "    train_x = f[rnd_indices]\n",
    "    train_y = l[rnd_indices]\n",
    "    return(train_x, train_y, test_x, test_y)\n",
    "\n",
    "#Train model\n",
    "def train_model(params, dm):\n",
    "    train_gb = xgb.train(params, dm)\n",
    "    return(train_gb)\n",
    "\n",
    "#Test model, return accuracy score and predictions\n",
    "def test_model(test_x, test_y, model):\n",
    "    test_dm = xgb.DMatrix(test_x)\n",
    "    y_pred_prob = model.predict(test_dm)\n",
    "    y_pred = y_pred_prob.copy()\n",
    "    y_pred[y_pred > 0.5] = 1\n",
    "    y_pred[y_pred <= 0.5] = 0\n",
    "    acc = accuracy_score(y_pred, test_y)\n",
    "    roc = roc_auc_score(y_pred, test_y)\n",
    "    return(acc, roc, y_pred_prob)"
   ]
  },
  {
   "cell_type": "code",
   "execution_count": 10,
   "metadata": {
    "collapsed": false
   },
   "outputs": [],
   "source": [
    "df = pulldata(limit = LIMIT)\n",
    "df = process(df)"
   ]
  },
  {
   "cell_type": "code",
   "execution_count": 15,
   "metadata": {
    "collapsed": false
   },
   "outputs": [
    {
     "name": "stdout",
     "output_type": "stream",
     "text": [
      "local_general\n",
      "Accuracy:  0.898469578201\n",
      "ROC AUC:  0.845107453953\n",
      "local_primary\n",
      "Accuracy:  0.917082179132\n",
      "ROC AUC:  0.835520649168\n",
      "national_presidential\n",
      "Accuracy:  0.819190968956\n",
      "ROC AUC:  0.812304876565\n",
      "national_midterm\n",
      "Accuracy:  0.890136627363\n",
      "ROC AUC:  0.805146887464\n"
     ]
    }
   ],
   "source": [
    "#Trained models\n",
    "trained = {}\n",
    "\n",
    "for t in best_params:\n",
    "    print t['target']\n",
    "    train_x, train_y, test_x, test_y = tr_te_split(df.drop(RECENT[t['target']], axis=1), \n",
    "                                                   df[RECENT[t['target']]],.7)\n",
    "    #Make train/test dmatrix\n",
    "    train_dm = xgb.DMatrix(train_x, train_y)\n",
    "    trained[t['target']] = train_model(t['params'][0], train_dm)\n",
    "    acc, roc, y_pred = test_model(test_x, test_y, trained[t['target']])\n",
    "    print 'Accuracy: ', acc\n",
    "    print 'ROC AUC: ', roc"
   ]
  },
  {
   "cell_type": "markdown",
   "metadata": {},
   "source": [
    "### Training/predicting on full data"
   ]
  },
  {
   "cell_type": "code",
   "execution_count": 16,
   "metadata": {
    "collapsed": true
   },
   "outputs": [],
   "source": [
    "full = pulldata()\n",
    "full = process(full)"
   ]
  },
  {
   "cell_type": "code",
   "execution_count": 19,
   "metadata": {
    "collapsed": false
   },
   "outputs": [
    {
     "name": "stdout",
     "output_type": "stream",
     "text": [
      "local_general\n",
      "Accuracy:  0.901122365644\n",
      "ROC AUC:  0.844086378812\n",
      "local_primary\n",
      "Accuracy:  0.922655396602\n",
      "ROC AUC:  0.84847023614\n",
      "national_presidential\n",
      "Accuracy:  0.820772340598\n",
      "ROC AUC:  0.813416362618\n",
      "national_midterm\n",
      "Accuracy:  0.888649315869\n",
      "ROC AUC:  0.810068104205\n"
     ]
    }
   ],
   "source": [
    "#Trained models\n",
    "trained = {}\n",
    "#Scored observations\n",
    "scored = pd.DataFrame(index = full.index)\n",
    "\n",
    "for t in best_params:\n",
    "    print t['target']\n",
    "    X, y = full.drop(RECENT[t['target']], axis=1), full[RECENT[t['target']]]\n",
    "    train_dm = xgb.DMatrix(X, y)\n",
    "    trained[t['target']] = train_model(t['params'][0], train_dm)\n",
    "    acc, roc, y_pred = test_model(X, y, trained[t['target']])\n",
    "    print 'Accuracy: ', acc\n",
    "    print 'ROC AUC: ', roc\n",
    "    scored[t['target']] = y_pred"
   ]
  },
  {
   "cell_type": "code",
   "execution_count": null,
   "metadata": {
    "collapsed": true
   },
   "outputs": [],
   "source": [
    "# Sum score - used in v 0.1, v0.2\n",
    "scored['score_total'] = scored['local_general'] + scored['national_midterm'] + scored['national_presidential']\n",
    "scored['score_total_scaled'] = scored['score_total'] / scored['score_total'].max()"
   ]
  },
  {
   "cell_type": "code",
   "execution_count": 131,
   "metadata": {
    "collapsed": true
   },
   "outputs": [],
   "source": [
    "# Export to gz\n",
    "scored.to_csv('scored_xgboost_v02.csv.gz', compression='gzip')"
   ]
  },
  {
   "cell_type": "markdown",
   "metadata": {},
   "source": [
    "### Upload to db (takes a long time outside of AWS)"
   ]
  },
  {
   "cell_type": "code",
   "execution_count": null,
   "metadata": {
    "collapsed": false
   },
   "outputs": [],
   "source": [
    "conn = pg.connect(database = vk_access['VK_DB'], user = vk_access['VK_U'], password = vk_access['VK_PW'],\n",
    "    host = vk_access['VK_HOST'], port = vk_access['VK_PORT'])\n",
    "cur = conn.cursor()\n",
    "\n",
    "ins_cols = ['local_general', 'local_primary', 'national_presidential', \n",
    "            'national_midterm', 'raw_voter_id', 'score_w_scaled', 'score_total_scaled']\n",
    "\n",
    "#Counter for resume upload\n",
    "#Commits every 10,000 records staged\n",
    "counter = 0\n",
    "for ind, vals in scored.iloc[counter:][ins_cols].iterrows():\n",
    "    if counter % 10000 == 0:\n",
    "        print \"uploaded {} records\".format(counter)\n",
    "        conn.commit()\n",
    "    vals_str = ', '.join([str(x) for x in vals])\n",
    "    rvid = vals['raw_voter_id']\n",
    "    ins = \"\"\" \n",
    "    INSERT INTO {0} ({1})\n",
    "    select {2}\n",
    "    WHERE NOT EXISTS (SELECT * FROM {0} WHERE raw_voter_id={3})\n",
    "    \"\"\".format('voter_grades', \n",
    "            ', '.join(ins_cols), \n",
    "              vals_str,\n",
    "              rvid)\n",
    "    cur.execute(ins)\n",
    "    counter+=1\n",
    "conn.commit()"
   ]
  },
  {
   "cell_type": "markdown",
   "metadata": {},
   "source": [
    "### Voter counts for weighting\n",
    "This retrieves the count of the number of people that voted in the most recent elections.  This isn't used in v0.1 or v0.2"
   ]
  },
  {
   "cell_type": "code",
   "execution_count": 11,
   "metadata": {
    "collapsed": false
   },
   "outputs": [],
   "source": [
    "# Voter counts\n",
    "v_cnt = {}\n",
    "conn = pg.connect(database = vk_access['VK_DB'], user = vk_access['VK_U'], password = vk_access['VK_PW'],\n",
    "    host = vk_access['VK_HOST'], port = vk_access['VK_PORT'])\n",
    "cur = conn.cursor()\n",
    "cnt_sql = \"\"\"\n",
    "            SELECT count(*)\n",
    "            from rawvoters\n",
    "            where {} = TRUE\n",
    "          \"\"\"\n",
    "for k,v in RECENT.items():\n",
    "    cur.execute(cnt_sql.format(v))\n",
    "    v_cnt[k] = float(cur.fetchall()[0][0])"
   ]
  }
 ],
 "metadata": {
  "kernelspec": {
   "display_name": "Python 2",
   "language": "python",
   "name": "python2"
  },
  "language_info": {
   "codemirror_mode": {
    "name": "ipython",
    "version": 2
   },
   "file_extension": ".py",
   "mimetype": "text/x-python",
   "name": "python",
   "nbconvert_exporter": "python",
   "pygments_lexer": "ipython2",
   "version": "2.7.12"
  }
 },
 "nbformat": 4,
 "nbformat_minor": 2
}
