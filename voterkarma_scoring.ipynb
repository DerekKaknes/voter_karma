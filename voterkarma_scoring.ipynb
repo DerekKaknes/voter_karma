{
 "cells": [
  {
   "cell_type": "markdown",
   "metadata": {
    "collapsed": false
   },
   "source": [
    "# VoterKarma calculation\n",
    "_This notebook outlines the steps for calculating the VoterKarma score presented in the Debug Politics Hackthon 1-15-16_\n",
    "### v 0.1: MVP: Logistic regression defaults to score voters"
   ]
  },
  {
   "cell_type": "code",
   "execution_count": null,
   "metadata": {
    "collapsed": true
   },
   "outputs": [],
   "source": [
    "import pdb\n",
    "import psycopg2 as pg\n",
    "import pandas as pd\n",
    "import numpy as np\n",
    "import datetime\n",
    "from sklearn.linear_model import LogisticRegression"
   ]
  },
  {
   "cell_type": "code",
   "execution_count": null,
   "metadata": {
    "collapsed": false
   },
   "outputs": [],
   "source": [
    "#Read in db access information\n",
    "vk_access = {}\n",
    "with open('./db_vars', 'r') as f:\n",
    "    for l in f.readlines():\n",
    "        vk_access[l.split('=')[0]] = l.split('=')[1].strip('\\n')"
   ]
  },
  {
   "cell_type": "markdown",
   "metadata": {},
   "source": [
    "### Utilities"
   ]
  },
  {
   "cell_type": "code",
   "execution_count": null,
   "metadata": {
    "collapsed": true
   },
   "outputs": [],
   "source": [
    "# Utilities\n",
    "def date_to_years(start, end=datetime.date.today()):\n",
    "    return (end - start.date()).days / 365\n",
    "\n",
    "def convert_to_date(col):\n",
    "    return pd.to_datetime(col, errors='ignore', format=\"%Y-%m-%d\")"
   ]
  },
  {
   "cell_type": "markdown",
   "metadata": {},
   "source": [
    "### Global vars"
   ]
  },
  {
   "cell_type": "code",
   "execution_count": null,
   "metadata": {
    "collapsed": true
   },
   "outputs": [],
   "source": [
    "#Limit number of observations to retrieve\n",
    "LIMIT = 3000\n",
    "#Columns in database\n",
    "HEADERS = (\n",
    "'id', 'dob', 'gender', 'status', 'enrollment', 'district', 'regdate', \n",
    "'idrequired', 'idmet',\n",
    "'e2001_09_primary',\n",
    "'e2001_11_general',\n",
    "'e2005_09_primary',\n",
    "'e2005_11_general',\n",
    "'e2006_11_general',\n",
    "'e2008_02_primary',\n",
    "'e2008_11_general',\n",
    "'e2009_09_primary',\n",
    "'e2009_11_general',\n",
    "'e2010_09_primary',\n",
    "'e2010_11_general',\n",
    "'e2012_06_primary',\n",
    "'e2012_09_primary',\n",
    "'e2012_11_general',\n",
    "'e2013_09_primary',\n",
    "'e2013_11_general',\n",
    "'e2014_06_primary',\n",
    "'e2014_11_general'\n",
    ")\n",
    "#Recent elections (column names)\n",
    "RECENT = {'local_primary':'e2013_09_primary', \n",
    "               'local_general':'e2013_11_general', \n",
    "               'national_midterm':'e2014_11_general',\n",
    "               'national_presidential': 'e2012_11_general'}"
   ]
  },
  {
   "cell_type": "markdown",
   "metadata": {},
   "source": [
    "### Voter counts for weighting\n",
    "This retrieves the count of the number of people that voted in the most recent elections.  This isn't used in v0.1"
   ]
  },
  {
   "cell_type": "code",
   "execution_count": null,
   "metadata": {
    "collapsed": false
   },
   "outputs": [],
   "source": [
    "# Voter counts\n",
    "v_cnt = {}\n",
    "conn = pg.connect(database = vk_access['VK_DB'], user = vk_access['VK_U'], password = vk_access['VK_PW'],\n",
    "    host = vk_access['VK_HOST'], port = vk_access['VK_PORT'])\n",
    "cur = conn.cursor()\n",
    "cnt_sql = \"\"\"\n",
    "            SELECT count(*)\n",
    "            from rawvoters\n",
    "            where {} = TRUE\n",
    "          \"\"\"\n",
    "for k,v in RECENT.items():\n",
    "    cur.execute(cnt_sql.format(v))\n",
    "    v_cnt[k] = float(cur.fetchall()[0][0])"
   ]
  },
  {
   "cell_type": "markdown",
   "metadata": {},
   "source": [
    "### Data pulling\n",
    "Requires connection to vk RDS.  Use `LIMIT` global to limit number of observations.  Total dataset is >3M rows"
   ]
  },
  {
   "cell_type": "code",
   "execution_count": null,
   "metadata": {
    "collapsed": false
   },
   "outputs": [],
   "source": [
    "conn = pg.connect(database = vk_access['VK_DB'], user = vk_access['VK_U'], password = vk_access['VK_PW'],\n",
    "    host = vk_access['VK_HOST'], port = vk_access['VK_PORT'])\n",
    "\n",
    "cur = conn.cursor()\n",
    "\n",
    "sel = \"\"\"\n",
    "SELECT {}\n",
    "FROM {}\n",
    "\"\"\".format(', '.join(headers), 'rawvoters')\n",
    "\n",
    "if LIMIT is not None:\n",
    "    sel += \" LIMIT {}\".format(LIMIT)\n",
    "\n",
    "cur.execute(sel)\n",
    "df = pd.DataFrame.from_records(cur.fetchall(), columns=headers)"
   ]
  },
  {
   "cell_type": "code",
   "execution_count": null,
   "metadata": {
    "collapsed": true
   },
   "outputs": [],
   "source": [
    "# Set index to 'id' and drop id\n",
    "df.set_index(['id'], inplace=True)\n",
    "# Convert Date fields to years duration\n",
    "df[df.select_dtypes(['object']).columns] = df.select_dtypes(['object']).apply(convert_to_date)\n",
    "df[df.select_dtypes(['datetime64[ns]']).columns] = \\\n",
    "        df.select_dtypes(['datetime64[ns]']).applymap(lambda x:\n",
    "                date_to_years(x))\n",
    "# Create categories and pivot them\n",
    "df[df.select_dtypes(['object']).columns] = \\\n",
    "        df.select_dtypes(['object']).apply(lambda x: x.astype('category'))\n",
    "\n",
    "# Pivot categorical variables\n",
    "cat_cols = df.select_dtypes(['category']).columns\n",
    "for col in cat_cols:\n",
    "    dummy = pd.get_dummies(df[col], prefix=col)\n",
    "    df = pd.concat([df, dummy], axis=1)\n",
    "\n",
    "df.drop(cat_cols, axis=1, inplace=True)"
   ]
  },
  {
   "cell_type": "markdown",
   "metadata": {},
   "source": [
    "### Model making and scoring"
   ]
  },
  {
   "cell_type": "code",
   "execution_count": null,
   "metadata": {
    "collapsed": true
   },
   "outputs": [],
   "source": [
    "# Make model\n",
    "def make_model(data, target):\n",
    "    y = data[target]\n",
    "    X = data.drop([target], axis=1)\n",
    "\n",
    "    mod = LogisticRegression()\n",
    "    mod.fit(X, y)\n",
    "    return(mod)"
   ]
  },
  {
   "cell_type": "code",
   "execution_count": null,
   "metadata": {
    "collapsed": true
   },
   "outputs": [],
   "source": [
    "# Score input data\n",
    "def score(mod, user_data):\n",
    "    pred = mod.predict_proba(user_data)[:,1]\n",
    "    return(pred)"
   ]
  },
  {
   "cell_type": "code",
   "execution_count": null,
   "metadata": {
    "collapsed": false
   },
   "outputs": [],
   "source": [
    "target_dict = {'local_primary':'e2013_09_primary', \n",
    "               'local_general':'e2013_11_general', \n",
    "               'national_midterm':'e2014_11_general',\n",
    "               'national_presidential': 'e2012_11_general'}\n",
    "mod_tr = {}\n",
    "scored = pd.DataFrame()\n",
    "\n",
    "for k,v in RECENT.items():\n",
    "    mod_tr[k] = make_model(df, v)\n",
    "    print k, 'accuracy', mod_tr[k].score(df.drop([v],axis=1), df[v])\n",
    "    scored[k] = score(mod_tr[k], df.drop([v],axis=1))\n",
    "scored['raw_voter_id'] = df.index"
   ]
  },
  {
   "cell_type": "code",
   "execution_count": null,
   "metadata": {
    "collapsed": false
   },
   "outputs": [],
   "source": [
    "# weighted score\n",
    "scored['score_w'] = 0\n",
    "for k in RECENT:\n",
    "    scored['score_w'] += scored[k] * (1/vk_cnt[k])"
   ]
  },
  {
   "cell_type": "code",
   "execution_count": null,
   "metadata": {
    "collapsed": false
   },
   "outputs": [],
   "source": [
    "# Center percentile, max = 100%\n",
    "scored['score_w_scaled'] = scored['score_w'] / scored['score_w'].max()\n",
    "\n",
    "# Sum score - used in v 0.1\n",
    "scored['score_total'] = scored['local_general'] + scored['national_midterm'] + scored['national_presidential']\n",
    "scored['score_total_scaled'] = scored['score_total'] / scored['score_total'].max()"
   ]
  },
  {
   "cell_type": "markdown",
   "metadata": {},
   "source": [
    "### Upload to db (takes a long time outside of AWS)"
   ]
  },
  {
   "cell_type": "code",
   "execution_count": null,
   "metadata": {
    "collapsed": false
   },
   "outputs": [],
   "source": [
    "conn = pg.connect(database = vk_access['VK_DB'], user = vk_access['VK_U'], password = vk_access['VK_PW'],\n",
    "    host = vk_access['VK_HOST'], port = vk_access['VK_PORT'])\n",
    "cur = conn.cursor()\n",
    "\n",
    "ins_cols = ['local_general', 'local_primary', 'national_presidential', \n",
    "            'national_midterm', 'raw_voter_id', 'score_w_scaled', 'score_total_scaled']\n",
    "\n",
    "#Counter for resume upload\n",
    "#Commits every 10,000 records staged\n",
    "counter = 0\n",
    "for ind, vals in scored.iloc[counter:][ins_cols].iterrows():\n",
    "    if counter % 10000 == 0:\n",
    "        print \"uploaded {} records\".format(counter)\n",
    "        conn.commit()\n",
    "    vals_str = ', '.join([str(x) for x in vals])\n",
    "    rvid = vals['raw_voter_id']\n",
    "    ins = \"\"\" \n",
    "    INSERT INTO {0} ({1})\n",
    "    select {2}\n",
    "    WHERE NOT EXISTS (SELECT * FROM {0} WHERE raw_voter_id={3})\n",
    "    \"\"\".format('voter_grades', \n",
    "            ', '.join(ins_cols), \n",
    "              vals_str,\n",
    "              rvid)\n",
    "    cur.execute(ins)\n",
    "    counter+=1\n",
    "conn.commit()"
   ]
  }
 ],
 "metadata": {
  "kernelspec": {
   "display_name": "Python 2",
   "language": "python",
   "name": "python2"
  },
  "language_info": {
   "codemirror_mode": {
    "name": "ipython",
    "version": 2
   },
   "file_extension": ".py",
   "mimetype": "text/x-python",
   "name": "python",
   "nbconvert_exporter": "python",
   "pygments_lexer": "ipython2",
   "version": "2.7.12"
  }
 },
 "nbformat": 4,
 "nbformat_minor": 2
}
